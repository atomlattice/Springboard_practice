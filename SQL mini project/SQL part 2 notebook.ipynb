{
 "cells": [
  {
   "cell_type": "code",
   "execution_count": 16,
   "id": "1e1eff46",
   "metadata": {},
   "outputs": [],
   "source": [
    "from sqlalchemy import create_engine\n",
    "import pandas as pd\n",
    "engine = create_engine('sqlite:///sqlite_db_pythonsqlite.db')"
   ]
  },
  {
   "cell_type": "code",
   "execution_count": 17,
   "id": "5abc6fcc",
   "metadata": {},
   "outputs": [
    {
     "name": "stdout",
     "output_type": "stream",
     "text": [
      "2.6.0\n",
      "2. Query all tasks\n",
      "(0, 'Tennis Court 1', 5, 25, 10000, 200)\n",
      "(1, 'Tennis Court 2', 5, 25, 8000, 200)\n",
      "(2, 'Badminton Court', 0, 15.5, 4000, 50)\n",
      "(3, 'Table Tennis', 0, 5, 320, 10)\n",
      "(4, 'Massage Room 1', 9.9, 80, 4000, 3000)\n",
      "(5, 'Massage Room 2', 9.9, 80, 4000, 3000)\n",
      "(6, 'Squash Court', 3.5, 17.5, 5000, 80)\n",
      "(7, 'Snooker Table', 0, 5, 450, 15)\n",
      "(8, 'Pool Table', 0, 5, 400, 15)\n"
     ]
    }
   ],
   "source": [
    "import sqlite3\n",
    "from sqlite3 import Error\n",
    "\n",
    " \n",
    "def create_connection(db_file):\n",
    "    \"\"\" create a database connection to the SQLite database\n",
    "        specified by the db_file\n",
    "    :param db_file: database file\n",
    "    :return: Connection object or None\n",
    "    \"\"\"\n",
    "    conn = None\n",
    "    try:\n",
    "        conn = sqlite3.connect(db_file)\n",
    "        print(sqlite3.version)\n",
    "    except Error as e:\n",
    "        print(e)\n",
    " \n",
    "    return conn\n",
    "\n",
    " \n",
    "def select_all_tasks(conn):\n",
    "    \"\"\"\n",
    "    Query all rows in the tasks table\n",
    "    :param conn: the Connection object\n",
    "    :return:\n",
    "    \"\"\"\n",
    "    cur = conn.cursor()\n",
    "    \n",
    "    query1 = \"\"\"\n",
    "        SELECT *\n",
    "        FROM FACILITIES\n",
    "        \"\"\"\n",
    "    cur.execute(query1)\n",
    " \n",
    "    rows = cur.fetchall()\n",
    " \n",
    "    for row in rows:\n",
    "        print(row)\n",
    "\n",
    "\n",
    "def main():\n",
    "    database = \"sqlite_db_pythonsqlite.db\"\n",
    " \n",
    "    # create a database connection\n",
    "    conn = create_connection(database)\n",
    "    with conn: \n",
    "        print(\"2. Query all tasks\")\n",
    "        select_all_tasks(conn)\n",
    " \n",
    " \n",
    "if __name__ == '__main__':\n",
    "    main()"
   ]
  },
  {
   "cell_type": "markdown",
   "id": "14b6611b",
   "metadata": {},
   "source": [
    "QUESTIONS:\n",
    "\n",
    "Q10: Produce a list of facilities with a total revenue less than 1000.\n",
    "The output of facility name and total revenue, sorted by revenue. Remember\n",
    "that there's a different cost for guests and members!"
   ]
  },
  {
   "cell_type": "code",
   "execution_count": 26,
   "id": "11e86186",
   "metadata": {
    "scrolled": true
   },
   "outputs": [
    {
     "name": "stdout",
     "output_type": "stream",
     "text": [
      "   facility_name  total_revenue\n",
      "0     Pool Table            270\n",
      "1  Snooker Table            240\n",
      "2   Table Tennis            180\n"
     ]
    }
   ],
   "source": [
    "df = pd.read_sql_query('''SELECT name as facility_name, total_revenue\n",
    "                    FROM (SELECT name, SUM(CASE WHEN Bookings.memid = 0\n",
    "                        THEN Facilities.guestcost * slots\n",
    "                        ELSE Facilities.membercost * slots END) as total_revenue\n",
    "                        FROM Bookings JOIN Members ON Bookings.memid = Members.memid\n",
    "                        JOIN Facilities ON Bookings.facid = Facilities.facid\n",
    "                        GROUP BY name) as facility_revenue\n",
    "                    WHERE total_revenue < 1000\n",
    "                    ORDER BY total_revenue DESC''', engine)\n",
    "print(df.head())"
   ]
  },
  {
   "cell_type": "markdown",
   "id": "de20be70",
   "metadata": {},
   "source": [
    "Q11: Produce a report of members and who recommended them in alphabetic surname,firstname order"
   ]
  },
  {
   "cell_type": "code",
   "execution_count": 46,
   "id": "7b2e1178",
   "metadata": {},
   "outputs": [
    {
     "name": "stdout",
     "output_type": "stream",
     "text": [
      "    ID               member_name    recommender_name\n",
      "0   15           Bader, Florence    Stibbons, Ponder\n",
      "1   12               Baker, Anne    Stibbons, Ponder\n",
      "2   16            Baker, Timothy     Farrell, Jemima\n",
      "3    8               Boothe, Tim         Rownam, Tim\n",
      "4    5           Butters, Gerald       Smith, Darren\n",
      "5   22              Coplin, Joan      Baker, Timothy\n",
      "6   36            Crumpet, Erica        Smith, Tracy\n",
      "7    7               Dare, Nancy    Joplette, Janice\n",
      "8   20          Genting, Matthew     Butters, Gerald\n",
      "9   35                Hunt, John  Purview, Millicent\n",
      "10  11              Jones, David    Joplette, Janice\n",
      "11  26            Jones, Douglas        Jones, David\n",
      "12   4          Joplette, Janice       Smith, Darren\n",
      "13  21           Mackenzie, Anna       Smith, Darren\n",
      "14  10             Owen, Charles       Smith, Darren\n",
      "15  17             Pinker, David     Farrell, Jemima\n",
      "16  30        Purview, Millicent        Smith, Tracy\n",
      "17  27         Rumney, Henrietta    Genting, Matthew\n",
      "18  24         Sarwin, Ramnaresh     Bader, Florence\n",
      "19  14               Smith, Jack       Smith, Darren\n",
      "20   9          Stibbons, Ponder       Tracy, Burton\n",
      "21  29  Worthington-Smyth, Henry        Smith, Tracy\n"
     ]
    }
   ],
   "source": [
    "df1 = pd.read_sql_query('''SELECT m1.memid AS ID, m1.surname || ', ' || m1.firstname as member_name, \n",
    "                            m2.surname || ', ' || m2.firstname as recommender_name FROM Members as m1\n",
    "                            INNER JOIN Members as m2 ON m1.recommendedby = m2.memid \n",
    "                            WHERE m1.firstname NOT LIKE 'GUEST' AND m2.firstname NOT LIKE 'GUEST'  \n",
    "                            ORDER BY member_name''', engine)\n",
    "print(df1)"
   ]
  },
  {
   "cell_type": "markdown",
   "id": "0ceab1b5",
   "metadata": {},
   "source": [
    "Q12: Find the facilities with their usage by member, but not guests "
   ]
  },
  {
   "cell_type": "code",
   "execution_count": 47,
   "id": "ad7b8ac9",
   "metadata": {},
   "outputs": [
    {
     "name": "stdout",
     "output_type": "stream",
     "text": [
      "       facility_name  member_ID  facility_usage_count\n",
      "0    Badminton Court          1                   132\n",
      "1    Badminton Court          2                    32\n",
      "2    Badminton Court          3                     4\n",
      "3    Badminton Court          5                    20\n",
      "4    Badminton Court          6                     2\n",
      "..               ...        ...                   ...\n",
      "197   Tennis Court 2         24                    11\n",
      "198   Tennis Court 2         27                     1\n",
      "199   Tennis Court 2         28                     1\n",
      "200   Tennis Court 2         30                     1\n",
      "201   Tennis Court 2         35                     4\n",
      "\n",
      "[202 rows x 3 columns]\n"
     ]
    }
   ],
   "source": [
    " df2 = pd.read_sql_query('''SELECT f.name AS facility_name, b.memid as member_ID, COUNT(f.name) AS facility_usage_count\n",
    "        FROM Bookings AS b INNER JOIN Facilities AS f ON b.facid = f.facid\n",
    "        INNER JOIN Members AS m ON b.memid = m.memid\n",
    "        GROUP BY f.name, m.memid\n",
    "        HAVING m.memid <> 0''', engine)\n",
    "print(df2)"
   ]
  },
  {
   "cell_type": "markdown",
   "id": "7ee185b7",
   "metadata": {},
   "source": [
    "Q13: Find the facilities usage by month, but not guests"
   ]
  },
  {
   "cell_type": "code",
   "execution_count": 51,
   "id": "fa449455",
   "metadata": {},
   "outputs": [
    {
     "name": "stdout",
     "output_type": "stream",
     "text": [
      "      facility_name month  facility_usage_count\n",
      "0   Badminton Court    07                    51\n",
      "1   Badminton Court    08                   132\n",
      "2   Badminton Court    09                   161\n",
      "3    Massage Room 1    07                    77\n",
      "4    Massage Room 1    08                   153\n",
      "5    Massage Room 1    09                   191\n",
      "6    Massage Room 2    07                     4\n",
      "7    Massage Room 2    08                     9\n",
      "8    Massage Room 2    09                    14\n",
      "9        Pool Table    07                   103\n",
      "10       Pool Table    08                   272\n",
      "11       Pool Table    09                   408\n",
      "12    Snooker Table    07                    68\n",
      "13    Snooker Table    08                   154\n",
      "14    Snooker Table    09                   199\n",
      "15     Squash Court    07                    23\n",
      "16     Squash Court    08                    85\n",
      "17     Squash Court    09                    87\n",
      "18     Table Tennis    07                    48\n",
      "19     Table Tennis    08                   143\n",
      "20     Table Tennis    09                   194\n",
      "21   Tennis Court 1    07                    65\n",
      "22   Tennis Court 1    08                   111\n",
      "23   Tennis Court 1    09                   132\n",
      "24   Tennis Court 2    07                    41\n",
      "25   Tennis Court 2    08                   109\n",
      "26   Tennis Court 2    09                   126\n"
     ]
    }
   ],
   "source": [
    "df3 = pd.read_sql_query('''SELECT f.name AS facility_name, strftime('%m', b.starttime) AS month, COUNT(f.name) AS facility_usage_count\n",
    "        FROM Bookings AS b\n",
    "        INNER JOIN Facilities AS f\n",
    "        USING (facid)\n",
    "        INNER JOIN Members AS m\n",
    "        USING (memid)\n",
    "        WHERE memid <>0\n",
    "        GROUP BY  f.name, strftime('%m', b.starttime)''', engine)\n",
    "print(df3)"
   ]
  },
  {
   "cell_type": "code",
   "execution_count": null,
   "id": "1a6dfbf8",
   "metadata": {},
   "outputs": [],
   "source": []
  }
 ],
 "metadata": {
  "kernelspec": {
   "display_name": "Python 3 (ipykernel)",
   "language": "python",
   "name": "python3"
  },
  "language_info": {
   "codemirror_mode": {
    "name": "ipython",
    "version": 3
   },
   "file_extension": ".py",
   "mimetype": "text/x-python",
   "name": "python",
   "nbconvert_exporter": "python",
   "pygments_lexer": "ipython3",
   "version": "3.9.12"
  }
 },
 "nbformat": 4,
 "nbformat_minor": 5
}
