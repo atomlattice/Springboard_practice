{
 "cells": [
  {
   "cell_type": "markdown",
   "id": "960dc28f",
   "metadata": {},
   "source": [
    "# Analysis of WHO life expectancy data 2000-2015: what countries have the highest life expectancy consistently over these 15 years, and why?"
   ]
  },
  {
   "cell_type": "code",
   "execution_count": null,
   "id": "686af271",
   "metadata": {},
   "outputs": [],
   "source": [
    "#import the pandas, numpy libraries as pd, and np \n",
    "import pandas as pd\n",
    "import numpy as np\n",
    "\n",
    "# Load the pyplot collection of functions from matplotlib, as plt \n",
    "import matplotlib.pyplot as plt\n",
    "\n",
    "import seaborn as sns\n",
    "import plotly.express as px\n",
    "import os\n",
    "\n",
    "import pandas_profiling"
   ]
  },
  {
   "cell_type": "code",
   "execution_count": null,
   "id": "2f92e619",
   "metadata": {
    "scrolled": true
   },
   "outputs": [],
   "source": [
    "# Put this data into a variable  \n",
    "WHO_data = pd.read_csv(r'C:\\Users\\Sarah\\Documents\\Springboard\\DATASETS\\Capstone 2\\Life Expectancy (WHO) from Kaggle\\Life Expectancy Data.csv')\n",
    "\n",
    "# Using the head() pandas method, observe the first three entries.\n",
    "WHO_data.head(3)"
   ]
  },
  {
   "cell_type": "code",
   "execution_count": null,
   "id": "ca4447c5",
   "metadata": {},
   "outputs": [],
   "source": [
    "WHO_data.info()"
   ]
  },
  {
   "cell_type": "code",
   "execution_count": null,
   "id": "328b06ad",
   "metadata": {},
   "outputs": [],
   "source": [
    "list(WHO_data.columns)"
   ]
  },
  {
   "cell_type": "code",
   "execution_count": null,
   "id": "b9820287",
   "metadata": {},
   "outputs": [],
   "source": [
    "#I see that some of these column names have spaces at the end - this isn't helpful!\n",
    "WHO_data.columns = WHO_data.columns.str.strip()"
   ]
  },
  {
   "cell_type": "code",
   "execution_count": null,
   "id": "fabb2437",
   "metadata": {},
   "outputs": [],
   "source": [
    "#fixed? yes\n",
    "list(WHO_data.columns)"
   ]
  },
  {
   "cell_type": "code",
   "execution_count": null,
   "id": "97b20baf",
   "metadata": {},
   "outputs": [],
   "source": [
    "#view report\n",
    "report = WHO_data.profile_report(sort='None', html={'style':{'full_width': True}}, progress_bar=False)\n",
    "report"
   ]
  },
  {
   "cell_type": "code",
   "execution_count": null,
   "id": "26de4d02",
   "metadata": {},
   "outputs": [],
   "source": [
    "#Rename messy columns we think will be useful\n",
    "#df = df.rename(columns={'oldName1': 'newName1', 'oldName2': 'newName2'})\n",
    "WHO_data.rename(columns = {'Life expectancy':'Life_Expectancy', 'percentage expenditure': 'Percentage_Expenditure', \"Income composition of resources\": \"Income_Composition_Resources\"}, inplace = True)\n",
    "WHO_data.head(5)"
   ]
  },
  {
   "cell_type": "code",
   "execution_count": null,
   "id": "81cf16ef",
   "metadata": {
    "scrolled": true
   },
   "outputs": [],
   "source": [
    "#look more closely at what columns have NaNs and zeros\n",
    "WHO_data.isna().any()"
   ]
  },
  {
   "cell_type": "code",
   "execution_count": null,
   "id": "67581b00",
   "metadata": {},
   "outputs": [],
   "source": [
    "WHO_data.isna().sum().plot(kind=\"bar\")\n",
    "plt.show()"
   ]
  },
  {
   "cell_type": "code",
   "execution_count": null,
   "id": "57ade073",
   "metadata": {},
   "outputs": [],
   "source": [
    "#what about a large \"developed\" country - what is missing from data?\n",
    "WHO_data[WHO_data.Country == \"United States of America\"].T"
   ]
  },
  {
   "cell_type": "markdown",
   "id": "6d03ff58",
   "metadata": {},
   "source": [
    "Looks like as an example there is data missing for some years for the US, but then there are variables for which the US has no entries for any years, and they seem potentially significant - GDP, Population, etc. Need to do something about this - can't throw away the US entirely."
   ]
  },
  {
   "cell_type": "code",
   "execution_count": null,
   "id": "02accc09",
   "metadata": {},
   "outputs": [],
   "source": [
    "#Try to fill missing values\n",
    "#Interpolate backwardly across the column:\n",
    "WHO_data.interpolate(method ='linear', limit_direction ='backward', inplace=True)\n",
    "#Interpolate in forward order across the column:\n",
    "WHO_data.interpolate(method ='linear', limit_direction ='forward', inplace=True)"
   ]
  },
  {
   "cell_type": "code",
   "execution_count": null,
   "id": "ad0cb84d",
   "metadata": {
    "scrolled": true
   },
   "outputs": [],
   "source": [
    "#check with US as example\n",
    "WHO_data[WHO_data.Country == \"United States of America\"].T"
   ]
  },
  {
   "cell_type": "code",
   "execution_count": null,
   "id": "7c97bf53",
   "metadata": {},
   "outputs": [],
   "source": [
    "#now deal with all the zeros - replace with NaNs then replace as done above\n",
    "WHO_data.replace(0,np.nan, inplace = True)\n",
    "WHO_data.interpolate(inplace=True)"
   ]
  },
  {
   "cell_type": "code",
   "execution_count": null,
   "id": "629987b5",
   "metadata": {
    "scrolled": true
   },
   "outputs": [],
   "source": [
    "#check with US as example\n",
    "WHO_data[WHO_data.Country == \"United States of America\"].T"
   ]
  },
  {
   "cell_type": "code",
   "execution_count": null,
   "id": "0f3ae653",
   "metadata": {},
   "outputs": [],
   "source": [
    "#got all the zeros?\n",
    "WHO_data.all()"
   ]
  },
  {
   "cell_type": "code",
   "execution_count": null,
   "id": "613c13c0",
   "metadata": {
    "scrolled": false
   },
   "outputs": [],
   "source": [
    "#column Status has few issues with NaNs and needs to be explored - what are the categories?\n",
    "WHO_data[\"Status\"].unique()"
   ]
  },
  {
   "cell_type": "code",
   "execution_count": null,
   "id": "b57e9f7c",
   "metadata": {},
   "outputs": [],
   "source": [
    "#this seems to be the first big delineation that could affect life expectancy - do developing countries have higher life expectancy?\n",
    "\n",
    "developing_countries = WHO_data[(WHO_data[\"Status\"].str.contains(\"Developing\"))]\n",
    "developed_countries = WHO_data[(WHO_data[\"Status\"].str.contains(\"Developed\"))]"
   ]
  },
  {
   "cell_type": "code",
   "execution_count": null,
   "id": "d87b4b57",
   "metadata": {},
   "outputs": [],
   "source": [
    "#visualize\n",
    "sns.set(font_scale=1.5)\n",
    "sns.relplot(x=\"Year\", y=\"Life_Expectancy\", kind=\"line\", hue=\"Status\", data=WHO_data)\n",
    "plt.title(\"Life Expectancy: Developed versus Developing Countries\", fontsize=18)\n",
    "sns.set_style(\"white\")\n",
    "plt.xlabel(\"Year\")\n",
    "plt.ylabel(\"Life Expectancy (in years)\")\n",
    "plt.show()"
   ]
  },
  {
   "cell_type": "markdown",
   "id": "1fdf49bd",
   "metadata": {},
   "source": [
    "CLEARLY developed countries have much higher life expectancy than developing countries. It also looks like life expectancy went up for each category over the 15 years, which could have to be more deeply considered as to why."
   ]
  },
  {
   "cell_type": "code",
   "execution_count": null,
   "id": "e4d266a6",
   "metadata": {},
   "outputs": [],
   "source": [
    "#in here change Status DEVELOPING to 0 and DEVELOP to 1 so that we don't have to deal with strings\n",
    "WHO_data['Status'].replace(['Developing', 'Developed'],\n",
    "                        [0, 1], inplace=True)\n",
    "WHO_data.head()"
   ]
  },
  {
   "cell_type": "code",
   "execution_count": null,
   "id": "37ccaa99",
   "metadata": {},
   "outputs": [],
   "source": [
    "#try out some other visualizations! a heat map to tease out correlations\n",
    "plt.figure(figsize=(20,15))\n",
    "sns.heatmap(WHO_data.corr(),annot=True,cmap='Blues')\n",
    "plt.show()"
   ]
  },
  {
   "cell_type": "markdown",
   "id": "7e71a71a",
   "metadata": {},
   "source": [
    "It's already looking like there are some strong correlations between some factors and life expectancy. Our previous plot clearly showed that \"developing\" is a factor is high life expectancy. I'm also seeing: income composition of resources (.83 - the highest), schooling (.73), Alcohol (.4), BMI (.56), GDP (.44) as being potentially related. Comorbidities: Polio (.46), Diptheria (.47). As we already determined, status (developed versus developing) is very much correlated to life expectancy."
   ]
  },
  {
   "cell_type": "markdown",
   "id": "eb7ceb84",
   "metadata": {},
   "source": [
    "I'm fascinated to see what doesn't seem to correlate at all with life expectancy - HIV/AIDS, thinness, and adult mortality."
   ]
  },
  {
   "cell_type": "code",
   "execution_count": null,
   "id": "0ac163b1",
   "metadata": {},
   "outputs": [],
   "source": [
    "#schooling\n",
    "px.scatter(WHO_data,x='Life_Expectancy',y='Schooling',color='Country',size='Year',template='plotly',title='Life Expectancy in Comparison to Schooling')"
   ]
  },
  {
   "cell_type": "markdown",
   "id": "240c833e",
   "metadata": {},
   "source": [
    "I'm seeing very high life expectancy in countries where citizens spend a high number of years in school (15.5-17.5 years). New Zealand seems the outlier - high life expectancy and over 20 years of schooling. These countries to take a closer look at where there is a correlation between number of years schooling and life expectancy are: Norway, Finland, Portugal, Spain, Belgium, Italy, France, Sweden."
   ]
  },
  {
   "cell_type": "markdown",
   "id": "d3f3fcff",
   "metadata": {},
   "source": [
    "But I'm also looking at the Democratic Republic of the Congo - high number of years for schooling, but much lower life expectancy (between 50-50 years) - other factors must be at play to lower their life expectancy."
   ]
  },
  {
   "cell_type": "code",
   "execution_count": null,
   "id": "d19ad1e8",
   "metadata": {
    "scrolled": true
   },
   "outputs": [],
   "source": [
    "# income composition of resources?\n",
    "px.scatter(WHO_data,x='Life_Expectancy',y='Income_Composition_Resources',color='Country',size='Year',template='plotly',title='Life Expectancy in Comparison to Income Composition of Resources')"
   ]
  },
  {
   "cell_type": "markdown",
   "id": "75459602",
   "metadata": {},
   "source": [
    "A fascinating plot! Human Development Index in terms of income composition of resources (index ranging from 0 to 1). Income composition of resources means a country utilizes its resources productively. I'm seeing basically the same countries with a high income composition of resources and high life expectancy: Norway, Germany, New Zealand, Sweden, Belgium, France, Spain, Italy, and Portugal. This list is overlapping greatly with high life expectancy <-> number of years of schooling."
   ]
  },
  {
   "cell_type": "code",
   "execution_count": null,
   "id": "37e566cc",
   "metadata": {},
   "outputs": [],
   "source": [
    "px.scatter(WHO_data,x='Life_Expectancy',y='BMI',color='Country',size='Year',template='plotly',title='Life Expectancy in Comparison to BMI')"
   ]
  },
  {
   "cell_type": "markdown",
   "id": "76c3aa0c",
   "metadata": {},
   "source": [
    "BMI is average body mass of a population, the higher the number the more body mass. So of course, this one is quite misleading, because you would think the higher the BMI as a number the better, but actually the higher the number, the more someone weighs, which is usually an indicator of poor health, and therefore low life expectancy. But we are seeing that countries with high BMI (people who are overweight) have high life expectancy, so actually, low BMI isn't making people live longer. Countries with high BMI but living the longest: New Zealand, Belgium, Germany, Finland, Norway, Sweden, Spain, France, Italy."
   ]
  },
  {
   "cell_type": "markdown",
   "id": "7eadd6ee",
   "metadata": {},
   "source": [
    "Looking back at the heat map this isn't actually surprising considering that thinness seems to have no relation with life expectancy."
   ]
  },
  {
   "cell_type": "markdown",
   "id": "b4e05bde",
   "metadata": {},
   "source": [
    "There is one weird outlier and that is Portugal with a high life expectancy but very low BMI of 10 - that is quite underweight and not healthy. May need investigation if Portugal remains an interest. "
   ]
  },
  {
   "cell_type": "code",
   "execution_count": null,
   "id": "a4f63013",
   "metadata": {},
   "outputs": [],
   "source": [
    "#check relationship with GDP\n",
    "px.scatter(WHO_data,x='Life_Expectancy',y='GDP',color='Country',size='Year',template='plotly',title='Life Expectancy in Relationship to GDP')"
   ]
  },
  {
   "cell_type": "markdown",
   "id": "74ffe669",
   "metadata": {},
   "source": [
    "Not really seeing the relationship I thought I'd see - the same countries ahead of the pack with high life expectancy actually have low GDP in comparison with many countries. So high GDP doesn't seem to be a determing factor by itself. Countries with relatively low GDP but high life expectancy: Germany, Spain, Portugal, France."
   ]
  },
  {
   "cell_type": "markdown",
   "id": "931b8a92",
   "metadata": {},
   "source": [
    "Interesting outlier: Luxembourg - high GDP, very high life expectancy. But it hasn't been showing up in regards to the other correlating factors."
   ]
  },
  {
   "cell_type": "code",
   "execution_count": null,
   "id": "a98bd94d",
   "metadata": {
    "scrolled": true
   },
   "outputs": [],
   "source": [
    "#checking on alcohol just in case\n",
    "px.scatter(WHO_data,x='Life_Expectancy',y='Alcohol',color='Country',size='Year',template='plotly',title='Life Expectancy in Relationship to Alcohol')"
   ]
  },
  {
   "cell_type": "markdown",
   "id": "705d77a9",
   "metadata": {},
   "source": [
    "Alcohol, recorded per capita (15+) consumption (in litres of pure alcohol). These same countries with high life expectancy are consuming a fair amount of alcohol, comparatively, so it would indeed appear alcohol is not as important to life expectancy as schooling or income composition of resources. In fact, the countries who drink the most (Estonia, Belarus) are still living into their '70s at least, so that still confirms alcohol is not killing people at a young age to a degree of concern for this question. You also see many countries where alcohol consumption is minimal and yet they are still experiencing very low life expectancy. I don't think this will be a feature in analysis moving forward."
   ]
  },
  {
   "cell_type": "markdown",
   "id": "e61c4fd2",
   "metadata": {},
   "source": [
    "For further analysis based on this graph: Germany, Spain, France, New Zealand, Italy, Finland, Belgium. Portugal (although with a very low BMI - needs double checking)."
   ]
  },
  {
   "cell_type": "markdown",
   "id": "bd149692",
   "metadata": {},
   "source": [
    "Now to check polio and diptheria immunization rates:"
   ]
  },
  {
   "cell_type": "code",
   "execution_count": null,
   "id": "a2d737e4",
   "metadata": {},
   "outputs": [],
   "source": [
    "px.scatter(WHO_data,x='Life_Expectancy',y='Polio',color='Country',size='Year',template='plotly',title='Life Expectancy in Relationship to Polio Immunization')"
   ]
  },
  {
   "cell_type": "markdown",
   "id": "43c35230",
   "metadata": {},
   "source": [
    "Polio (Pol3) immunization coverage among 1-year-olds (%)"
   ]
  },
  {
   "cell_type": "code",
   "execution_count": null,
   "id": "e9fcab79",
   "metadata": {},
   "outputs": [],
   "source": [
    "px.scatter(WHO_data,x='Life_Expectancy',y='Diphtheria',color='Country',size='Year',template='plotly',title='Life Expectancy in Relationship to Diphtheria Immunization')"
   ]
  },
  {
   "cell_type": "markdown",
   "id": "5b4cc75c",
   "metadata": {},
   "source": [
    "Diphtheria tetanus toxoid and pertussis (DTP3) immunization coverage among 1-year-olds (%)"
   ]
  },
  {
   "cell_type": "markdown",
   "id": "88a16e1b",
   "metadata": {},
   "source": [
    "Looking at the distribution here, it confirms that high immunization rates are evident among countries with high life expectancy, but also very high where life expectancy is very low. You also see countries with very low rates of immunization where people are still living into their '70s and '80s. I don't think that this is a feature to focus on moving forward."
   ]
  },
  {
   "cell_type": "code",
   "execution_count": null,
   "id": "1df41fbe",
   "metadata": {},
   "outputs": [],
   "source": [
    "#I wanted to look at percentage expenditure\n",
    "px.scatter(WHO_data,x='Life_Expectancy',y='Percentage_Expenditure',color='Country',size='Year',template='plotly',title='Life Expectancy in Relationship to Percentage Expenditure')"
   ]
  },
  {
   "cell_type": "markdown",
   "id": "c9cafa8d",
   "metadata": {},
   "source": [
    "Not sure if some of the data is off here - Democratic Republic of Congo has a weird behavior - very low life expectancy but high expenditre on health as a percentage of Gross Domestic Product per capita(%). I also still see countries with a low health percentage expenditure with pretty high life expectancy. So this is a bit counter intuitive."
   ]
  },
  {
   "cell_type": "code",
   "execution_count": null,
   "id": "c2767058",
   "metadata": {
    "scrolled": true
   },
   "outputs": [],
   "source": [
    "#checking the histograms\n",
    "WHO_data.hist(figsize=(20, 15))\n",
    "plt.subplots_adjust(hspace=0.5);"
   ]
  },
  {
   "cell_type": "markdown",
   "id": "8620ce12",
   "metadata": {},
   "source": [
    "Even just looking at the histograms Schooling and Income Composition of Resources are the most similar in shape to life expectancy."
   ]
  },
  {
   "cell_type": "markdown",
   "id": "a6730983",
   "metadata": {},
   "source": [
    "The features to model will be SCHOOLING, and INCOME COMPOSITION OF RESOURCES."
   ]
  },
  {
   "cell_type": "markdown",
   "id": "bed0d55a",
   "metadata": {},
   "source": [
    "STATUS is also correlating, but there are only 2 categories - clearly developed countries have the highest life expectancy, but as the histogram shows, the number of countries in the list that are developing far outnumber the number of developed. Such categories and how they are defined are subjective in comparison to the other 2 most correlative features."
   ]
  },
  {
   "cell_type": "markdown",
   "id": "ff138304",
   "metadata": {},
   "source": [
    "What needs to be remembered, though, is that before adding missing values and zeros, \n",
    "\n",
    "1. Income composition of resources has 167 (5.7%) missing values\n",
    "2. Schooling has 163 (5.5%) missing values\t\n",
    "3. Income composition of resources has 130 (4.4%) zeros\n",
    "\n",
    "That's not a deal breaker but if real, correct data could be added that would make the model even more sound."
   ]
  }
 ],
 "metadata": {
  "kernelspec": {
   "display_name": "Python 3 (ipykernel)",
   "language": "python",
   "name": "python3"
  },
  "language_info": {
   "codemirror_mode": {
    "name": "ipython",
    "version": 3
   },
   "file_extension": ".py",
   "mimetype": "text/x-python",
   "name": "python",
   "nbconvert_exporter": "python",
   "pygments_lexer": "ipython3",
   "version": "3.9.12"
  }
 },
 "nbformat": 4,
 "nbformat_minor": 5
}
